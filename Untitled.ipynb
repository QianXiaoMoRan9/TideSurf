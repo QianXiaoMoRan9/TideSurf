{
 "cells": [
  {
   "cell_type": "code",
   "execution_count": 4,
   "metadata": {
    "collapsed": false
   },
   "outputs": [],
   "source": [
    "import pickle\n",
    "from pprint import pprint"
   ]
  },
  {
   "cell_type": "code",
   "execution_count": 5,
   "metadata": {
    "collapsed": false
   },
   "outputs": [],
   "source": [
    "with open(\"E:\\\\sina-raw\\\\2020-12-21-morning\\\\data\\\\2020-12-21_0-0.pkl\", \"rb\") as f:\n",
    "    a = pickle.load(f)"
   ]
  },
  {
   "cell_type": "code",
   "execution_count": 6,
   "metadata": {
    "collapsed": false
   },
   "outputs": [
    {
     "name": "stdout",
     "output_type": "stream",
     "text": [
      "{'ask1': 18.42,\n",
      " 'ask1_volume': 162000,\n",
      " 'ask2': 0.0,\n",
      " 'ask2_volume': 1929,\n",
      " 'ask3': 0.0,\n",
      " 'ask3_volume': 0,\n",
      " 'ask4': 0.0,\n",
      " 'ask4_volume': 0,\n",
      " 'ask5': 0.0,\n",
      " 'ask5_volume': 0,\n",
      " 'bid1': 18.42,\n",
      " 'bid1_volume': 162000,\n",
      " 'bid2': 0.0,\n",
      " 'bid2_volume': 0,\n",
      " 'bid3': 0.0,\n",
      " 'bid3_volume': 0,\n",
      " 'bid4': 0.0,\n",
      " 'bid4_volume': 0,\n",
      " 'bid5': 0.0,\n",
      " 'bid5_volume': 0,\n",
      " 'buy': 18.42,\n",
      " 'close': 18.36,\n",
      " 'date': '2020-12-21',\n",
      " 'high': 0.0,\n",
      " 'low': 0.0,\n",
      " 'name': '平安银行',\n",
      " 'now': 0.0,\n",
      " 'open': 0.0,\n",
      " 'sell': 18.42,\n",
      " 'time': '09:20:36',\n",
      " 'turnover': 0,\n",
      " 'volume': 0.0}\n"
     ]
    }
   ],
   "source": [
    "pprint(a[0]['000001'])"
   ]
  },
  {
   "cell_type": "code",
   "execution_count": 8,
   "metadata": {
    "collapsed": false
   },
   "outputs": [
    {
     "name": "stdout",
     "output_type": "stream",
     "text": [
      "{'ask1': 18.42,\n",
      " 'ask1_volume': 162400,\n",
      " 'ask2': 0.0,\n",
      " 'ask2_volume': 2029,\n",
      " 'ask3': 0.0,\n",
      " 'ask3_volume': 0,\n",
      " 'ask4': 0.0,\n",
      " 'ask4_volume': 0,\n",
      " 'ask5': 0.0,\n",
      " 'ask5_volume': 0,\n",
      " 'bid1': 18.42,\n",
      " 'bid1_volume': 162400,\n",
      " 'bid2': 0.0,\n",
      " 'bid2_volume': 0,\n",
      " 'bid3': 0.0,\n",
      " 'bid3_volume': 0,\n",
      " 'bid4': 0.0,\n",
      " 'bid4_volume': 0,\n",
      " 'bid5': 0.0,\n",
      " 'bid5_volume': 0,\n",
      " 'buy': 18.42,\n",
      " 'close': 18.36,\n",
      " 'date': '2020-12-21',\n",
      " 'high': 0.0,\n",
      " 'low': 0.0,\n",
      " 'name': '平安银行',\n",
      " 'now': 0.0,\n",
      " 'open': 0.0,\n",
      " 'sell': 18.42,\n",
      " 'time': '09:20:45',\n",
      " 'turnover': 0,\n",
      " 'volume': 0.0}\n"
     ]
    }
   ],
   "source": [
    "pprint(a[1]['000001'])"
   ]
  },
  {
   "cell_type": "code",
   "execution_count": null,
   "metadata": {
    "collapsed": true
   },
   "outputs": [],
   "source": []
  }
 ],
 "metadata": {
  "kernelspec": {
   "display_name": "Python 3",
   "language": "python",
   "name": "python3"
  },
  "language_info": {
   "codemirror_mode": {
    "name": "ipython",
    "version": 3
   },
   "file_extension": ".py",
   "mimetype": "text/x-python",
   "name": "python",
   "nbconvert_exporter": "python",
   "pygments_lexer": "ipython3",
   "version": "3.6.0"
  }
 },
 "nbformat": 4,
 "nbformat_minor": 2
}
